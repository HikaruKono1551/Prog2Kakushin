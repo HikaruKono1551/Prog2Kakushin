{
  "nbformat": 4,
  "nbformat_minor": 0,
  "metadata": {
    "colab": {
      "provenance": [],
      "authorship_tag": "ABX9TyPn6+DVkjiTFx3BFKvbY/j4",
      "include_colab_link": true
    },
    "kernelspec": {
      "name": "python3",
      "display_name": "Python 3"
    },
    "language_info": {
      "name": "python"
    }
  },
  "cells": [
    {
      "cell_type": "markdown",
      "metadata": {
        "id": "view-in-github",
        "colab_type": "text"
      },
      "source": [
        "<a href=\"https://colab.research.google.com/github/HikaruKono1551/Prog2Kakushin/blob/main/work1.ipynb\" target=\"_parent\"><img src=\"https://colab.research.google.com/assets/colab-badge.svg\" alt=\"Open In Colab\"/></a>"
      ]
    },
    {
      "cell_type": "markdown",
      "source": [
        "TOEICの公開テストに関する日程，平均，天気等における変化，大学生の平均点との比較"
      ],
      "metadata": {
        "id": "yZuP02_V2nq6"
      }
    },
    {
      "cell_type": "code",
      "source": [],
      "metadata": {
        "id": "5Aexkzj_2mvT"
      },
      "execution_count": null,
      "outputs": []
    }
  ]
}