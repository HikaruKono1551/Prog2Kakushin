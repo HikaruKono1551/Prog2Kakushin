{
  "nbformat": 4,
  "nbformat_minor": 0,
  "metadata": {
    "colab": {
      "provenance": [],
      "authorship_tag": "ABX9TyMuqjrzr3S7MwkFevJ/wPlO",
      "include_colab_link": true
    },
    "kernelspec": {
      "name": "python3",
      "display_name": "Python 3"
    },
    "language_info": {
      "name": "python"
    }
  },
  "cells": [
    {
      "cell_type": "markdown",
      "metadata": {
        "id": "view-in-github",
        "colab_type": "text"
      },
      "source": [
        "<a href=\"https://colab.research.google.com/github/HikaruKono1551/Prog2Kakushin/blob/main/work2.ipynb\" target=\"_parent\"><img src=\"https://colab.research.google.com/assets/colab-badge.svg\" alt=\"Open In Colab\"/></a>"
      ]
    },
    {
      "cell_type": "markdown",
      "source": [
        "サイクロイドを使った図形の作成"
      ],
      "metadata": {
        "id": "sgBsozLP7bAO"
      }
    },
    {
      "cell_type": "code",
      "source": [],
      "metadata": {
        "id": "h24i9K3d7cJI"
      },
      "execution_count": null,
      "outputs": []
    }
  ]
}