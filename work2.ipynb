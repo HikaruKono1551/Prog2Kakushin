{
  "nbformat": 4,
  "nbformat_minor": 0,
  "metadata": {
    "colab": {
      "provenance": [],
      "authorship_tag": "ABX9TyOfq/VKxF+ZCyi04Y5jZuWJ",
      "include_colab_link": true
    },
    "kernelspec": {
      "name": "python3",
      "display_name": "Python 3"
    },
    "language_info": {
      "name": "python"
    }
  },
  "cells": [
    {
      "cell_type": "markdown",
      "metadata": {
        "id": "view-in-github",
        "colab_type": "text"
      },
      "source": [
        "<a href=\"https://colab.research.google.com/github/HikaruKono1551/Prog2Kakushin/blob/main/work2.ipynb\" target=\"_parent\"><img src=\"https://colab.research.google.com/assets/colab-badge.svg\" alt=\"Open In Colab\"/></a>"
      ]
    },
    {
      "cell_type": "markdown",
      "source": [
        "サイクロイドを使った図形の作成\n",
        "\n",
        "\n"
      ],
      "metadata": {
        "id": "sgBsozLP7bAO"
      }
    },
    {
      "cell_type": "code",
      "source": [
        "import numpy as np\n",
        "import matplotlib.pyplot as plt \n",
        "\n",
        "T =10\n",
        "t = np.linspace(0,20,100)\n",
        "x = 1 *(2*np.pi*t/T-np.sin(2*np.pi*t/T))\n",
        "y = 1*(1-np.cos(2*np.pi*t/T))\n",
        "plt.plot(x, y,color=\"pink\",linewidth=3)\n",
        "max_index = [i for i, x in enumerate(y) if x == y.max()] # y.max() もしくは np.max(y)\n",
        " \n",
        "plt.plot(x[max_index], y[max_index], '.', color='red',markersize=20)\n",
        "plt.grid()\n",
        "plt.axis('equal')\n",
        "plt.show()"
      ],
      "metadata": {
        "id": "2V6LLtA1vcEI",
        "outputId": "7ae3d528-4783-4844-8c1d-e100127ca3cd",
        "colab": {
          "base_uri": "https://localhost:8080/",
          "height": 265
        }
      },
      "execution_count": 56,
      "outputs": [
        {
          "output_type": "display_data",
          "data": {
            "text/plain": [
              "<Figure size 432x288 with 1 Axes>"
            ],
            "image/png": "[encoded data removed]"
          },
          "metadata": {
            "needs_background": "light"
          }
        }
      ]
    }
  ]
}