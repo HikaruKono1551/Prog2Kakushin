{
  "nbformat": 4,
  "nbformat_minor": 0,
  "metadata": {
    "colab": {
      "provenance": [],
      "authorship_tag": "ABX9TyMG2N6kzxOohyD8wcneYvW4",
      "include_colab_link": true
    },
    "kernelspec": {
      "name": "python3",
      "display_name": "Python 3"
    },
    "language_info": {
      "name": "python"
    }
  },
  "cells": [
    {
      "cell_type": "markdown",
      "metadata": {
        "id": "view-in-github",
        "colab_type": "text"
      },
      "source": [
        "<a href=\"https://colab.research.google.com/github/HikaruKono1551/Prog2Kakushin/blob/main/work3.ipynb\" target=\"_parent\"><img src=\"https://colab.research.google.com/assets/colab-badge.svg\" alt=\"Open In Colab\"/></a>"
      ]
    },
    {
      "cell_type": "markdown",
      "source": [
        "*国旗づくり*　上から順に　イタリア　日本　スイス　カタール　ドイツ　ウクライナ"
      ],
      "metadata": {
        "id": "MSWjwPWy9uah"
      }
    },
    {
      "cell_type": "code",
      "execution_count": 165,
      "metadata": {
        "id": "KGQ_e4Pu9tR6",
        "colab": {
          "base_uri": "https://localhost:8080/",
          "height": 317
        },
        "outputId": "738f3b76-65c9-4845-c987-9ad81dbe7451"
      },
      "outputs": [
        {
          "output_type": "display_data",
          "data": {
            "text/plain": [
              "<PIL.Image.Image image mode=RGB size=400x300 at 0x7FA0BF659F70>"
            ],
            "image/png": "[encoded data removed]"
          },
          "metadata": {}
        }
      ],
      "source": [
        "import numpy as np\n",
        "import cv2, sys\n",
        "from google.colab.patches import cv2_imshow \n",
        "\n",
        "img = np.zeros( (300, 400, 3), np.uint8 )#黒の画像\n",
        "img.fill( 122 )#背景はグレー\n",
        "#イタリア\n",
        "cv2.rectangle(img, (50,  50), (50+23, 100), color=(0,128,0),thickness=-1)\n",
        "cv2.rectangle(img, (50+23,  50), (50+23+24, 100), color=(255,255,255),thickness=-1)\n",
        "cv2.rectangle(img, (50+23+24,  50), (50+23+24+23, 100), color=(0, 0, 255),thickness=-1)\n",
        "cv2.putText(img, 'Italy', (55, 125), cv2.FONT_HERSHEY_SIMPLEX, 1.0, (255, 255, 255), thickness=2)\n",
        "#日本\n",
        "cv2.rectangle(img, (150, 50), (220, 100), color=(255,255,255), thickness=-1)\n",
        "cv2.rectangle(img, (250, 50), (320, 100), color=(0,0,255), thickness=-1)\n",
        "cv2.circle(img, (185, 75), 15, (0, 0, 255), thickness=-1)\n",
        "cv2.putText(img, 'Japan', (140, 125), cv2.FONT_HERSHEY_SIMPLEX, 1.0, (255, 255, 255), thickness=2)\n",
        "#スイス\n",
        "cv2.rectangle(img, (250, 50), (320, 100), color=(0,0,255), thickness=-1)\n",
        "cv2.rectangle(img, (280, 60), (290, 90), color=(255,255,255), thickness=-1)\n",
        "cv2.rectangle(img, (270, 70), (300, 80), color=(255,255,255), thickness=-1)\n",
        "cv2.putText(img, 'Switzerland', (250, 125), cv2.FONT_HERSHEY_SIMPLEX, 0.7, (255, 255, 255), thickness=2)\n",
        "#カタール\n",
        "cv2.rectangle(img, (50, 140), (120,190), color=(102,0,153),thickness=-1)\n",
        "cv2.rectangle(img, (50, 140), (60, 190), color=(255,255,255), thickness=-1)\n",
        "for i in range(8):\n",
        "  pts = np.array(((60, 141+i*6), (60, 141+(i+1)*6), (65,141+i*6+3 )))\n",
        "  cv2.fillPoly(img, [pts], (255, 255, 255))\n",
        "cv2.putText(img, 'Qatar', (48, 215), cv2.FONT_HERSHEY_SIMPLEX, 1.0, (255, 255, 255), thickness=2)\n",
        "#ドイツ\n",
        "cv2.rectangle(img, (150, 140), (220,190), color=(255, 255, 255))\n",
        "cv2.rectangle(img, (150, 140), (220,156), color=(0,0,0),thickness=-1)\n",
        "cv2.rectangle(img, (150, 156), (220,173), color=(0,0,255),thickness=-1)\n",
        "cv2.rectangle(img, (150, 173), (220,190), color=(0,255,255),thickness=-1)\n",
        "cv2.putText(img, 'Germany', (148, 215), cv2.FONT_HERSHEY_SIMPLEX, 0.7, (255, 255, 255), thickness=2)\n",
        "#ウクライナ\n",
        "cv2.rectangle(img, (250, 140), (320, 165), color=(204,102,0), thickness=-1)\n",
        "cv2.rectangle(img, (250, 165), (320, 190), color=(2,205,255), thickness=-1)\n",
        "cv2.putText(img, 'Ukraine', (250, 215), cv2.FONT_HERSHEY_SIMPLEX, 1.0, (255, 255, 255), thickness=2)\n",
        "\n",
        "cv2_imshow(img)"
      ]
    }
  ]
}